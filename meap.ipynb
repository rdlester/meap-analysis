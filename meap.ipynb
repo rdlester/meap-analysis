{
 "cells": [
  {
   "cell_type": "markdown",
   "metadata": {},
   "source": [
    "# meap analysis"
   ]
  },
  {
   "cell_type": "markdown",
   "metadata": {},
   "source": [
    "MEAP data obtained from\n",
    "https://www.mischooldata.org/DistrictSchoolProfiles/EntitySummary/SchoolDataFile.aspx\n",
    "\n",
    "Staffing info from\n",
    "https://www.mischooldata.org/Other/DataFiles/StaffingInformation/HistoricalStaffingSummary.aspx"
   ]
  },
  {
   "cell_type": "code",
   "execution_count": 2,
   "metadata": {
    "collapsed": true
   },
   "outputs": [],
   "source": [
    "%matplotlib inline"
   ]
  },
  {
   "cell_type": "code",
   "execution_count": 3,
   "metadata": {
    "collapsed": false
   },
   "outputs": [],
   "source": [
    "import numpy as np\n",
    "import matplotlib.pyplot as plt\n",
    "import pandas as pd\n",
    "import scipy.stats as stats\n",
    "from sklearn.linear_model import LinearRegression, Ridge, LogisticRegressionCV\n",
    "from sklearn.preprocessing import PolynomialFeatures, StandardScaler\n",
    "from sklearn.pipeline import make_pipeline\n",
    "from sklearn_pandas import DataFrameMapper\n",
    "from os.path import exists\n",
    "import qgrid as qgrid\n",
    "qgrid.nbinstall()"
   ]
  },
  {
   "cell_type": "code",
   "execution_count": 4,
   "metadata": {
    "collapsed": true
   },
   "outputs": [],
   "source": [
    "# consts for column names\n",
    "score_code_col = 'DistrictCode'\n",
    "staff_code_col = 'DCODE'\n",
    "subject_col = 'Subject Name'\n",
    "grade_col = 'Grade'\n",
    "subgroup_col = 'Subgroup'\n",
    "num_students_col = 'Number Tested'\n",
    "proficient_col = 'Percent Proficient'\n",
    "avg_score_col = 'Average Scaled Score'\n",
    "stddev_col = 'Standard Deviation'\n",
    "num_teachers_col = 'TEACHER'\n",
    "num_librarians_col = 'LIB_SPEC'\n",
    "num_library_support_col = 'LIB_SUPP'"
   ]
  },
  {
   "cell_type": "code",
   "execution_count": 5,
   "metadata": {
    "collapsed": false
   },
   "outputs": [],
   "source": [
    "# basic database creation and loading funcs\n",
    "# hdf is very fast but requires extra installs\n",
    "# hdf5 from homebrew/science tap, tables from pip\n",
    "\n",
    "# clean junk here\n",
    "def cleanData(combined):\n",
    "    combined.drop(staff_code_col, 1, inplace=True)\n",
    "    \n",
    "    # look at scores on district level only\n",
    "    combined = combined[combined['BuildingName'] == 'All Buildings']\n",
    "    combined.drop('BuildingName', 1, inplace=True)\n",
    "    \n",
    "    # Old format listed small number of students as '< 10' and lists no results,\n",
    "    # drop these\n",
    "    if combined.dtypes[num_students_col] == 'O':\n",
    "        combined = combined[combined[num_students_col] != '< 10']\n",
    "\n",
    "    # New formats list small proficiencies as '< 5%'\n",
    "    # Round to 5 to convert to numeric.\n",
    "    if combined.dtypes[proficient_col] == 'O':\n",
    "        percent_idx = combined[proficient_col] == '< 5%'\n",
    "        combined.loc[percent_idx, proficient_col] = 5\n",
    "        \n",
    "    combined.loc[:, num_students_col] = pd.to_numeric(combined[num_students_col])\n",
    "    combined.loc[:, proficient_col] = pd.to_numeric(combined[proficient_col])\n",
    "    combined.loc[:, avg_score_col] = pd.to_numeric(combined[avg_score_col])\n",
    "    combined.loc[:, stddev_col] = pd.to_numeric(combined[stddev_col])\n",
    "    \n",
    "    # replace NAN librarian cells with 0\n",
    "    combined.loc[:, num_teachers_col].fillna(0, inplace=True)\n",
    "    combined.loc[:, num_librarians_col].fillna(0, inplace=True)\n",
    "    combined.loc[:, num_library_support_col].fillna(0, inplace=True)\n",
    "    \n",
    "    return combined\n",
    "\n",
    "# I/O here\n",
    "hdf_key = 'table'\n",
    "def buildAndSaveCombinedSet(meap_csv, staff_csv, hdf_file):\n",
    "    scores = pd.read_csv(meap_csv)\n",
    "    scores.drop('BuildingCode', 1, inplace=True)\n",
    "\n",
    "    staff = pd.read_csv(staff_csv)\n",
    "    staff.drop('DNAME', 1, inplace=True)\n",
    "\n",
    "    combined = pd.merge(scores, staff, left_on=score_code_col, right_on=staff_code_col)\n",
    "    combined = cleanData(combined)\n",
    "    combined.to_hdf(hdf_file, hdf_key, mode='w')"
   ]
  },
  {
   "cell_type": "markdown",
   "metadata": {},
   "source": [
    "2012-2013."
   ]
  },
  {
   "cell_type": "code",
   "execution_count": 6,
   "metadata": {
    "collapsed": false
   },
   "outputs": [
    {
     "data": {
      "text/plain": [
       "Index(['SchoolYear', 'ISDCode', 'ISDName', 'DistrictCode', 'DistrictName',\n",
       "       'Grade', 'Subject Name', 'Subgroup', 'Number Tested',\n",
       "       'Level 1 Proficient', 'Level 2 Proficient', 'Level 3 Proficient',\n",
       "       'Level 4 Proficient', 'Percent Proficient', 'Average Scaled Score',\n",
       "       'Standard Deviation', 'TEACHER', 'INST_AID', 'INST_SUP', 'GUIDANCE',\n",
       "       'LIB_SPEC', 'LIB_SUPP', 'LEA_ADM', 'LEA_SUPP', 'SCH_ADM', 'SCH_SUPP',\n",
       "       'STU_SUPP', 'OTH_SUPP', 'SE_INSTR', 'SE_SUBJ', 'SE_CONS', 'SE_AID',\n",
       "       'SE_SUPP', 'SE_OTH', 'CT_TEACH', 'CONS', 'LEA_DIR', 'COORD', 'SUPERVSR',\n",
       "       'SCH_DIR'],\n",
       "      dtype='object')"
      ]
     },
     "execution_count": 6,
     "metadata": {},
     "output_type": "execute_result"
    }
   ],
   "source": [
    "# build and load hdf5 for 12-13.\n",
    "combined_12_hdf = 'all_data-12-13.hdf'\n",
    "if not exists(combined_12_hdf):\n",
    "    buildAndSaveCombinedSet('csv/meap-12-13.csv', 'csv/staff-12-13.csv', combined_12_hdf)\n",
    "\n",
    "combined_12 = pd.read_hdf(combined_12_hdf, hdf_key)\n",
    "# print list of columns\n",
    "combined_12.columns"
   ]
  },
  {
   "cell_type": "markdown",
   "metadata": {},
   "source": [
    "2013-2014"
   ]
  },
  {
   "cell_type": "code",
   "execution_count": 6,
   "metadata": {
    "collapsed": false
   },
   "outputs": [
    {
     "data": {
      "text/plain": [
       "Index(['SchoolYear', 'ISDCode', 'ISDName', 'DistrictCode', 'DistrictName',\n",
       "       'Grade', 'Subject Name', 'Subgroup', 'Number Tested',\n",
       "       'Level 1 Proficient', 'Level 2 Proficient', 'Level 3 Proficient',\n",
       "       'Level 4 Proficient', 'Percent Proficient',\n",
       "       'Average Scaled Score (rounded)', 'TEACHER', 'INST_AID', 'INST_SUP',\n",
       "       'GUIDANCE', 'LIB_SPEC', 'LIB_SUPP', 'LEA_ADM', 'LEA_SUPP', 'SCH_ADM',\n",
       "       'SCH_SUPP', 'STU_SUPP', 'OTH_SUPP', 'SE_INSTR', 'SE_SUBJ', 'SE_CONS',\n",
       "       'SE_AID', 'SE_SUPP', 'SE_OTH', 'CT_TEACH', 'CONS', 'LEA_DIR', 'COORD',\n",
       "       'SUPERVSR', 'SCH_DIR'],\n",
       "      dtype='object')"
      ]
     },
     "execution_count": 6,
     "metadata": {},
     "output_type": "execute_result"
    }
   ],
   "source": [
    "# build and load hdf5 for 13-14.\n",
    "combined_13_hdf = 'all_data-13-14.hdf'\n",
    "if not exists(combined_13_hdf):\n",
    "    buildAndSaveCombinedSet('csv/meap-13-14.csv', 'csv/staff-13-14.csv', combined_13_hdf)\n",
    "\n",
    "combined_13 = pd.read_hdf(combined_13_hdf, hdf_key)\n",
    "# print list of columns\n",
    "combined_13.columns"
   ]
  },
  {
   "cell_type": "code",
   "execution_count": 7,
   "metadata": {
    "collapsed": false
   },
   "outputs": [
    {
     "data": {
      "text/plain": [
       "[(3, 'Mathematics'),\n",
       " (3, 'Reading'),\n",
       " (4, 'Mathematics'),\n",
       " (4, 'Reading'),\n",
       " (4, 'Writing'),\n",
       " (5, 'Mathematics'),\n",
       " (5, 'Reading'),\n",
       " (5, 'Science'),\n",
       " (6, 'Mathematics'),\n",
       " (6, 'Reading'),\n",
       " (6, 'Social Studies'),\n",
       " (7, 'Mathematics'),\n",
       " (7, 'Reading'),\n",
       " (7, 'Writing'),\n",
       " (8, 'Mathematics'),\n",
       " (8, 'Reading'),\n",
       " (8, 'Science'),\n",
       " (9, 'Social Studies')]"
      ]
     },
     "execution_count": 7,
     "metadata": {},
     "output_type": "execute_result"
    }
   ],
   "source": [
    "# print valid grades + subjects\n",
    "# look at both together, as not all subjects are tested at each grade level\n",
    "valid_grade_subject = list(combined_12.groupby([grade_col, subject_col], sort=True).groups.keys())\n",
    "valid_grade_subject.sort()\n",
    "valid_grade_subject"
   ]
  },
  {
   "cell_type": "code",
   "execution_count": 8,
   "metadata": {
    "collapsed": false
   },
   "outputs": [
    {
     "data": {
      "text/plain": [
       "dict_keys(['Hispanic', 'Male', 'Two or More Races', 'Not English Language Learners', 'American Indian or Alaskan Native', 'Female', 'All Students', 'White, not of Hispanic origin', 'Black, not of Hispanic origin', 'Not Economically Disadvantaged', 'Economically Disadvantaged', 'English Language Learners', 'Students with Disabilities', 'Native Hawaiian or Other Pacific Islander', 'Asian'])"
      ]
     },
     "execution_count": 8,
     "metadata": {},
     "output_type": "execute_result"
    }
   ],
   "source": [
    "combined_12.groupby(subgroup_col).groups.keys()"
   ]
  },
  {
   "cell_type": "markdown",
   "metadata": {},
   "source": [
    "There are some weird schools. Detroit has way more teachers than every other school (2323.7), and one school has 0 teachers (but 3 career teachers)."
   ]
  },
  {
   "cell_type": "code",
   "execution_count": 7,
   "metadata": {
    "collapsed": true
   },
   "outputs": [],
   "source": [
    "all_subgroup = 'All Students'\n",
    "poor_subgroup = 'Economically Disadvantaged'"
   ]
  },
  {
   "cell_type": "code",
   "execution_count": 8,
   "metadata": {
    "collapsed": false
   },
   "outputs": [],
   "source": [
    "# compare scores only within a single grade + subject combination\n",
    "def examineFor(database, grade, subject, subgroup):\n",
    "    grouped = database.groupby([grade_col, subject_col, subgroup_col])\n",
    "\n",
    "    data = grouped.get_group((grade, subject, subgroup))\n",
    "    data = data.drop(grade_col, 1).drop(subject_col, 1).drop(subgroup_col, 1)\n",
    "    \n",
    "    return data"
   ]
  },
  {
   "cell_type": "code",
   "execution_count": 10,
   "metadata": {
    "collapsed": false
   },
   "outputs": [],
   "source": [
    "# test with 8th grade reading.\n",
    "data = examineFor(combined_12, 8, 'Reading', 'All Students')"
   ]
  },
  {
   "cell_type": "code",
   "execution_count": 11,
   "metadata": {
    "collapsed": false
   },
   "outputs": [
    {
     "data": {
      "text/html": [
       "<div>\n",
       "<table border=\"1\" class=\"dataframe\">\n",
       "  <thead>\n",
       "    <tr style=\"text-align: right;\">\n",
       "      <th></th>\n",
       "      <th>Number Tested</th>\n",
       "      <th>Percent Proficient</th>\n",
       "      <th>Average Scaled Score</th>\n",
       "      <th>Standard Deviation</th>\n",
       "      <th>TEACHER</th>\n",
       "      <th>LIB_SPEC</th>\n",
       "      <th>LIB_SUPP</th>\n",
       "    </tr>\n",
       "  </thead>\n",
       "  <tbody>\n",
       "    <tr>\n",
       "      <th>count</th>\n",
       "      <td>693.000000</td>\n",
       "      <td>693.000000</td>\n",
       "      <td>693.000000</td>\n",
       "      <td>693.000000</td>\n",
       "      <td>693.000000</td>\n",
       "      <td>693.000000</td>\n",
       "      <td>693.000000</td>\n",
       "    </tr>\n",
       "    <tr>\n",
       "      <th>mean</th>\n",
       "      <td>160.759019</td>\n",
       "      <td>62.277778</td>\n",
       "      <td>825.996349</td>\n",
       "      <td>23.131515</td>\n",
       "      <td>99.691905</td>\n",
       "      <td>0.798788</td>\n",
       "      <td>0.764012</td>\n",
       "    </tr>\n",
       "    <tr>\n",
       "      <th>std</th>\n",
       "      <td>237.327433</td>\n",
       "      <td>15.218558</td>\n",
       "      <td>9.062744</td>\n",
       "      <td>2.994371</td>\n",
       "      <td>152.289482</td>\n",
       "      <td>2.315006</td>\n",
       "      <td>2.008205</td>\n",
       "    </tr>\n",
       "    <tr>\n",
       "      <th>min</th>\n",
       "      <td>10.000000</td>\n",
       "      <td>0.000000</td>\n",
       "      <td>785.670000</td>\n",
       "      <td>11.480000</td>\n",
       "      <td>0.000000</td>\n",
       "      <td>0.000000</td>\n",
       "      <td>0.000000</td>\n",
       "    </tr>\n",
       "    <tr>\n",
       "      <th>25%</th>\n",
       "      <td>47.000000</td>\n",
       "      <td>54.200000</td>\n",
       "      <td>821.280000</td>\n",
       "      <td>21.350000</td>\n",
       "      <td>30.510000</td>\n",
       "      <td>0.000000</td>\n",
       "      <td>0.000000</td>\n",
       "    </tr>\n",
       "    <tr>\n",
       "      <th>50%</th>\n",
       "      <td>88.000000</td>\n",
       "      <td>64.500000</td>\n",
       "      <td>826.990000</td>\n",
       "      <td>23.150000</td>\n",
       "      <td>55.670000</td>\n",
       "      <td>0.000000</td>\n",
       "      <td>0.000000</td>\n",
       "    </tr>\n",
       "    <tr>\n",
       "      <th>75%</th>\n",
       "      <td>183.000000</td>\n",
       "      <td>72.600000</td>\n",
       "      <td>831.340000</td>\n",
       "      <td>24.990000</td>\n",
       "      <td>111.560000</td>\n",
       "      <td>1.000000</td>\n",
       "      <td>0.500000</td>\n",
       "    </tr>\n",
       "    <tr>\n",
       "      <th>max</th>\n",
       "      <td>3132.000000</td>\n",
       "      <td>100.000000</td>\n",
       "      <td>850.670000</td>\n",
       "      <td>40.890000</td>\n",
       "      <td>2323.700000</td>\n",
       "      <td>25.700000</td>\n",
       "      <td>15.390000</td>\n",
       "    </tr>\n",
       "  </tbody>\n",
       "</table>\n",
       "</div>"
      ],
      "text/plain": [
       "       Number Tested  Percent Proficient  Average Scaled Score  \\\n",
       "count     693.000000          693.000000            693.000000   \n",
       "mean      160.759019           62.277778            825.996349   \n",
       "std       237.327433           15.218558              9.062744   \n",
       "min        10.000000            0.000000            785.670000   \n",
       "25%        47.000000           54.200000            821.280000   \n",
       "50%        88.000000           64.500000            826.990000   \n",
       "75%       183.000000           72.600000            831.340000   \n",
       "max      3132.000000          100.000000            850.670000   \n",
       "\n",
       "       Standard Deviation      TEACHER    LIB_SPEC    LIB_SUPP  \n",
       "count          693.000000   693.000000  693.000000  693.000000  \n",
       "mean            23.131515    99.691905    0.798788    0.764012  \n",
       "std              2.994371   152.289482    2.315006    2.008205  \n",
       "min             11.480000     0.000000    0.000000    0.000000  \n",
       "25%             21.350000    30.510000    0.000000    0.000000  \n",
       "50%             23.150000    55.670000    0.000000    0.000000  \n",
       "75%             24.990000   111.560000    1.000000    0.500000  \n",
       "max             40.890000  2323.700000   25.700000   15.390000  "
      ]
     },
     "execution_count": 11,
     "metadata": {},
     "output_type": "execute_result"
    }
   ],
   "source": [
    "# summary statistics\n",
    "total = data.shape[0]\n",
    "desc_data = data[[num_students_col, proficient_col, avg_score_col, \n",
    "                  stddev_col, num_teachers_col, num_librarians_col, num_library_support_col]]\n",
    "desc_data.describe()"
   ]
  },
  {
   "cell_type": "code",
   "execution_count": 20,
   "metadata": {
    "collapsed": false
   },
   "outputs": [
    {
     "name": "stdout",
     "output_type": "stream",
     "text": [
      "Percent of schools with librarians: 0.336219336219\n",
      "\n",
      "Average score w librarians: 828.458111588\n",
      "Average score wo librarians: 824.749413043\n",
      "\n",
      "Average proficiency w librarians: 65.9991416309\n",
      "Std: 13.9403018773\n",
      "Average proficiency wo librarians: 60.392826087\n",
      "Std: 15.4729670524\n",
      "Diff: 9.28308196055%\n",
      "\n",
      "Norm test on with: NormaltestResult(statistic=26.253349855949203, pvalue=1.9913954616400677e-06)\n",
      "Norm test on without: NormaltestResult(statistic=43.95504343865484, pvalue=2.8528805713026742e-10)\n",
      "T-test: Ttest_indResult(statistic=4.6490953086250846, pvalue=3.9942978335124898e-06)\n"
     ]
    }
   ],
   "source": [
    "# Librarian specific stats\n",
    "idx_w_teachers = data[num_librarians_col] > 0\n",
    "percent_w_teachers = np.sum(idx_w_teachers) / total\n",
    "print(\"Percent of schools with librarians: \" + str(percent_w_teachers))\n",
    "print(\"\")\n",
    "scores_w = data[idx_w_teachers][avg_score_col]\n",
    "scores_wo = data[idx_w_teachers == 0][avg_score_col]\n",
    "print(\"Average score w librarians: \" + str(np.average(scores_w)))\n",
    "print(\"Average score wo librarians: \" + str(np.average(scores_wo)))\n",
    "print(\"\")\n",
    "percent_prof_w = data[idx_w_teachers][proficient_col]\n",
    "percent_prof_wo = data[idx_w_teachers == 0][proficient_col]\n",
    "avg_prof_w = np.average(percent_prof_w)\n",
    "avg_prof_wo = np.average(percent_prof_wo)\n",
    "print(\"Average proficiency w librarians: \" + str(avg_prof_w))\n",
    "print(\"Std: \" + str(np.std(percent_prof_w)))\n",
    "print(\"Average proficiency wo librarians: \" + str(avg_prof_wo))\n",
    "print(\"Std: \" + str(np.std(percent_prof_wo)))\n",
    "print(\"Diff: \" + str((avg_prof_w / avg_prof_wo - 1) * 100) + \"%\")\n",
    "print(\"\")\n",
    "print(\"Norm test on with: \" + str(stats.normaltest(percent_prof_w)))\n",
    "print(\"Norm test on without: \" + str(stats.normaltest(percent_prof_wo)))\n",
    "print(\"T-test: \" + str(stats.ttest_ind(percent_prof_w, percent_prof_wo)))"
   ]
  },
  {
   "cell_type": "code",
   "execution_count": 11,
   "metadata": {
    "collapsed": false,
    "scrolled": true
   },
   "outputs": [
    {
     "data": {
      "text/plain": [
       "<matplotlib.axes._subplots.AxesSubplot at 0x1147ee438>"
      ]
     },
     "execution_count": 11,
     "metadata": {},
     "output_type": "execute_result"
    },
    {
     "data": {
      "image/png": "[encoded data removed]",
      "text/plain": [
       "<matplotlib.figure.Figure at 0x113c59e80>"
      ]
     },
     "metadata": {},
     "output_type": "display_data"
    },
    {
     "data": {
      "image/png": "[encoded data removed]",
      "text/plain": [
       "<matplotlib.figure.Figure at 0x113c7cf28>"
      ]
     },
     "metadata": {},
     "output_type": "display_data"
    }
   ],
   "source": [
    "# examining avg_score_col asks: do kids score better on average?\n",
    "data.plot(x=avg_score_col, y=num_teachers_col, kind='scatter')\n",
    "data.plot(x=avg_score_col, y=num_librarians_col, kind='scatter')"
   ]
  },
  {
   "cell_type": "code",
   "execution_count": null,
   "metadata": {
    "collapsed": true
   },
   "outputs": [],
   "source": []
  },
  {
   "cell_type": "code",
   "execution_count": 12,
   "metadata": {
    "collapsed": false,
    "scrolled": true
   },
   "outputs": [
    {
     "data": {
      "text/plain": [
       "<matplotlib.axes._subplots.AxesSubplot at 0x10e2ac8d0>"
      ]
     },
     "execution_count": 12,
     "metadata": {},
     "output_type": "execute_result"
    },
    {
     "data": {
      "image/png": "[encoded data removed]",
      "text/plain": [
       "<matplotlib.figure.Figure at 0x10cb7d048>"
      ]
     },
     "metadata": {},
     "output_type": "display_data"
    },
    {
     "data": {
      "image/png": "[encoded data removed]",
      "text/plain": [
       "<matplotlib.figure.Figure at 0x10cb7d438>"
      ]
     },
     "metadata": {},
     "output_type": "display_data"
    }
   ],
   "source": [
    "# examining proficient_col asks: do more kids pass?\n",
    "data.plot(x=proficient_col, y=num_teachers_col, kind='scatter')\n",
    "data.plot(x=proficient_col, y=num_librarians_col, kind='scatter')"
   ]
  },
  {
   "cell_type": "code",
   "execution_count": 13,
   "metadata": {
    "collapsed": false
   },
   "outputs": [
    {
     "data": {
      "text/plain": [
       "<matplotlib.axes._subplots.AxesSubplot at 0x11541e5f8>"
      ]
     },
     "execution_count": 13,
     "metadata": {},
     "output_type": "execute_result"
    },
    {
     "data": {
      "image/png": "[encoded data removed]",
      "text/plain": [
       "<matplotlib.figure.Figure at 0x10e2bbdd8>"
      ]
     },
     "metadata": {},
     "output_type": "display_data"
    },
    {
     "data": {
      "image/png": "[encoded data removed]",
      "text/plain": [
       "<matplotlib.figure.Figure at 0x10f3124e0>"
      ]
     },
     "metadata": {},
     "output_type": "display_data"
    },
    {
     "data": {
      "image/png": "[encoded data removed]",
      "text/plain": [
       "<matplotlib.figure.Figure at 0x10f34c2e8>"
      ]
     },
     "metadata": {},
     "output_type": "display_data"
    }
   ],
   "source": [
    "students_per_teacher_col = 'Students per teacher'\n",
    "data.loc[:,students_per_teacher_col] = data[num_students_col].values / data[num_teachers_col].values\n",
    "data.plot(x=avg_score_col, y=students_per_teacher_col, kind='scatter')\n",
    "\n",
    "# since many districts have no librarians and dividing by zero is out\n",
    "# use librarians / student instead of students / librarian\n",
    "librarian_per_student_col = 'Librarians per student'\n",
    "data.loc[:,librarian_per_student_col] = data[num_librarians_col].values / data[num_students_col].values\n",
    "data.plot(x=avg_score_col, y=librarian_per_student_col, kind='scatter')\n",
    "\n",
    "# add in library support\n",
    "all_library_per_student_col = 'All Library Staff per student'\n",
    "data.loc[:,all_library_per_student_col] = (data[num_librarians_col].values + data[num_library_support_col].values) / data[num_students_col].values\n",
    "data.plot(x=avg_score_col, y=all_library_per_student_col, kind='scatter')"
   ]
  },
  {
   "cell_type": "code",
   "execution_count": 14,
   "metadata": {
    "collapsed": true
   },
   "outputs": [],
   "source": [
    "def runRegression(data, x_col, y_col, basis_degree=2):\n",
    "    ''' From librarians / student predict the percent proficient.\n",
    "    '''\n",
    "    scaler = StandardScaler()\n",
    "    model = make_pipeline(scaler,\n",
    "                          PolynomialFeatures(basis_degree),\n",
    "                          LinearRegression())\n",
    "    x = data[librarian_per_student_col].values\n",
    "    X = x[:, np.newaxis]\n",
    "    y = data[y_col].values\n",
    "    model.fit(X, y)\n",
    "    x_truth = scaler.fit_transform(X)\n",
    "    x_plot = np.linspace(x_truth.min(),x_truth.max(),1000)\n",
    "    X_plot = x_plot[:, np.newaxis]\n",
    "    y_plot = model.predict(X_plot)\n",
    "    plt.plot(x_plot, y_plot, label=\"prediction\")\n",
    "    plt.scatter(x_truth, y, label=\"truth\")\n",
    "    plt.legend(loc='lower right')\n",
    "    plt.show()\n",
    "    # ideally we'd get a second data set to score on\n",
    "    # different year, maybe\n",
    "    print('R^2: ' + str(model.score(X, y)))"
   ]
  },
  {
   "cell_type": "code",
   "execution_count": 15,
   "metadata": {
    "collapsed": false
   },
   "outputs": [
    {
     "data": {
      "image/png": "[encoded data removed]",
      "text/plain": [
       "<matplotlib.figure.Figure at 0x10f1b3e48>"
      ]
     },
     "metadata": {},
     "output_type": "display_data"
    },
    {
     "name": "stdout",
     "output_type": "stream",
     "text": [
      "R^2: 0.00546659277697\n"
     ]
    },
    {
     "data": {
      "image/png": "[encoded data removed]",
      "text/plain": [
       "<matplotlib.figure.Figure at 0x1155ccda0>"
      ]
     },
     "metadata": {},
     "output_type": "display_data"
    },
    {
     "name": "stdout",
     "output_type": "stream",
     "text": [
      "R^2: 0.0119010262896\n"
     ]
    },
    {
     "data": {
      "image/png": "[encoded data removed]",
      "text/plain": [
       "<matplotlib.figure.Figure at 0x1155cca90>"
      ]
     },
     "metadata": {},
     "output_type": "display_data"
    },
    {
     "name": "stdout",
     "output_type": "stream",
     "text": [
      "R^2: 0.00546659277697\n"
     ]
    },
    {
     "data": {
      "image/png": "[encoded data removed]",
      "text/plain": [
       "<matplotlib.figure.Figure at 0x1174c96d8>"
      ]
     },
     "metadata": {},
     "output_type": "display_data"
    },
    {
     "name": "stdout",
     "output_type": "stream",
     "text": [
      "R^2: 0.0119010262896\n"
     ]
    }
   ],
   "source": [
    "runRegression(data, librarian_per_student_col, proficient_col, 1)\n",
    "runRegression(data, librarian_per_student_col, avg_score_col, 1)\n",
    "runRegression(data, all_library_per_student_col, proficient_col, 1)\n",
    "runRegression(data, all_library_per_student_col, avg_score_col, 1)"
   ]
  },
  {
   "cell_type": "markdown",
   "metadata": {},
   "source": [
    "Nope."
   ]
  },
  {
   "cell_type": "markdown",
   "metadata": {
    "collapsed": true
   },
   "source": [
    "Logistic regression"
   ]
  },
  {
   "cell_type": "code",
   "execution_count": 22,
   "metadata": {
    "collapsed": true
   },
   "outputs": [],
   "source": [
    "def logit(x):\n",
    "    return 1 / (1 + np.exp(-x))\n",
    "\n",
    "def runLogistic(data, x_col, y_col, basis_degree=1, threshold=50):\n",
    "    ''' From librarians / student predict the percent proficient.\n",
    "    '''\n",
    "    scaler = StandardScaler()\n",
    "    regression = LogisticRegressionCV(Cs=5, penalty='l2', solver='liblinear')\n",
    "    model = make_pipeline(scaler,\n",
    "#                           PolynomialFeatures(basis_degree),\n",
    "                          regression)\n",
    "    x = data[librarian_per_student_col].values\n",
    "    X = x[:, np.newaxis]\n",
    "    y = (data[y_col].values > threshold).astype('int')\n",
    "    model.fit(X, y)\n",
    "    # plot\n",
    "    x_truth = scaler.transform(X)\n",
    "    x_plot = np.linspace(x_truth.min(),x_truth.max(),1000)\n",
    "    y_plot = logit(x_plot * regression.coef_ + regression.intercept_).ravel()\n",
    "    plt.plot(x_plot, y_plot, label=\"prediction\")\n",
    "    plt.scatter(x_truth, y, label=\"truth\")\n",
    "    plt.legend(loc='lower right')\n",
    "    plt.show()\n",
    "    # ideally we'd get a second data set to score on\n",
    "    # different year, maybe\n",
    "    print('Accuracy: ' + str(model.score(X, y)))"
   ]
  },
  {
   "cell_type": "code",
   "execution_count": 38,
   "metadata": {
    "collapsed": false
   },
   "outputs": [
    {
     "data": {
      "image/png": "[encoded data removed]",
      "text/plain": [
       "<matplotlib.figure.Figure at 0x1176827b8>"
      ]
     },
     "metadata": {},
     "output_type": "display_data"
    },
    {
     "name": "stdout",
     "output_type": "stream",
     "text": [
      "Accuracy: 0.558441558442\n"
     ]
    }
   ],
   "source": [
    "runLogistic(data, librarian_per_student_col, proficient_col, 1, 65)\n",
    "#runLogistic(data, librarian_per_student_col, avg_score_col, 1)\n",
    "#runLogistic(data, all_library_per_student_col, proficient_col, 1)\n",
    "#runLogistic(data, all_library_per_student_col, avg_score_col, 1)"
   ]
  },
  {
   "cell_type": "code",
   "execution_count": 37,
   "metadata": {
    "collapsed": false
   },
   "outputs": [
    {
     "name": "stdout",
     "output_type": "stream",
     "text": [
      "0.479076479076\n"
     ]
    }
   ],
   "source": [
    "# For a given proficiency percentage: what percent of schools beat it?\n",
    "proscr = data[proficient_col].values\n",
    "above_fifty = np.sum((proscr > 65).astype('int'))\n",
    "\n",
    "print(above_fifty / proscr.shape[0])"
   ]
  },
  {
   "cell_type": "markdown",
   "metadata": {},
   "source": [
    "4th grade reading."
   ]
  },
  {
   "cell_type": "code",
   "execution_count": 9,
   "metadata": {
    "collapsed": false
   },
   "outputs": [],
   "source": [
    "# test with 4th grade reading.\n",
    "data4 = examineFor(combined_12, 4, 'Reading', 'All Students')"
   ]
  },
  {
   "cell_type": "code",
   "execution_count": 30,
   "metadata": {
    "collapsed": false
   },
   "outputs": [
    {
     "data": {
      "text/html": [
       "<div>\n",
       "<table border=\"1\" class=\"dataframe\">\n",
       "  <thead>\n",
       "    <tr style=\"text-align: right;\">\n",
       "      <th></th>\n",
       "      <th>Number Tested</th>\n",
       "      <th>Percent Proficient</th>\n",
       "      <th>Average Scaled Score</th>\n",
       "      <th>Standard Deviation</th>\n",
       "      <th>TEACHER</th>\n",
       "      <th>LIB_SPEC</th>\n",
       "      <th>LIB_SUPP</th>\n",
       "    </tr>\n",
       "  </thead>\n",
       "  <tbody>\n",
       "    <tr>\n",
       "      <th>count</th>\n",
       "      <td>720.000000</td>\n",
       "      <td>720.000000</td>\n",
       "      <td>720.000000</td>\n",
       "      <td>720.000000</td>\n",
       "      <td>720.000000</td>\n",
       "      <td>720.000000</td>\n",
       "      <td>720.000000</td>\n",
       "    </tr>\n",
       "    <tr>\n",
       "      <th>mean</th>\n",
       "      <td>146.694444</td>\n",
       "      <td>64.525972</td>\n",
       "      <td>430.691889</td>\n",
       "      <td>25.327944</td>\n",
       "      <td>96.633528</td>\n",
       "      <td>0.778556</td>\n",
       "      <td>0.722792</td>\n",
       "    </tr>\n",
       "    <tr>\n",
       "      <th>std</th>\n",
       "      <td>230.119848</td>\n",
       "      <td>16.652309</td>\n",
       "      <td>10.671594</td>\n",
       "      <td>3.568205</td>\n",
       "      <td>150.201279</td>\n",
       "      <td>2.275024</td>\n",
       "      <td>1.958220</td>\n",
       "    </tr>\n",
       "    <tr>\n",
       "      <th>min</th>\n",
       "      <td>10.000000</td>\n",
       "      <td>11.800000</td>\n",
       "      <td>394.110000</td>\n",
       "      <td>13.460000</td>\n",
       "      <td>4.500000</td>\n",
       "      <td>0.000000</td>\n",
       "      <td>0.000000</td>\n",
       "    </tr>\n",
       "    <tr>\n",
       "      <th>25%</th>\n",
       "      <td>43.000000</td>\n",
       "      <td>55.300000</td>\n",
       "      <td>424.660000</td>\n",
       "      <td>23.157500</td>\n",
       "      <td>28.857500</td>\n",
       "      <td>0.000000</td>\n",
       "      <td>0.000000</td>\n",
       "    </tr>\n",
       "    <tr>\n",
       "      <th>50%</th>\n",
       "      <td>81.000000</td>\n",
       "      <td>67.500000</td>\n",
       "      <td>431.760000</td>\n",
       "      <td>25.455000</td>\n",
       "      <td>52.090000</td>\n",
       "      <td>0.000000</td>\n",
       "      <td>0.000000</td>\n",
       "    </tr>\n",
       "    <tr>\n",
       "      <th>75%</th>\n",
       "      <td>157.500000</td>\n",
       "      <td>76.700000</td>\n",
       "      <td>438.180000</td>\n",
       "      <td>27.345000</td>\n",
       "      <td>108.030000</td>\n",
       "      <td>1.000000</td>\n",
       "      <td>0.407500</td>\n",
       "    </tr>\n",
       "    <tr>\n",
       "      <th>max</th>\n",
       "      <td>3548.000000</td>\n",
       "      <td>100.000000</td>\n",
       "      <td>456.950000</td>\n",
       "      <td>49.740000</td>\n",
       "      <td>2323.700000</td>\n",
       "      <td>25.700000</td>\n",
       "      <td>15.390000</td>\n",
       "    </tr>\n",
       "  </tbody>\n",
       "</table>\n",
       "</div>"
      ],
      "text/plain": [
       "       Number Tested  Percent Proficient  Average Scaled Score  \\\n",
       "count     720.000000          720.000000            720.000000   \n",
       "mean      146.694444           64.525972            430.691889   \n",
       "std       230.119848           16.652309             10.671594   \n",
       "min        10.000000           11.800000            394.110000   \n",
       "25%        43.000000           55.300000            424.660000   \n",
       "50%        81.000000           67.500000            431.760000   \n",
       "75%       157.500000           76.700000            438.180000   \n",
       "max      3548.000000          100.000000            456.950000   \n",
       "\n",
       "       Standard Deviation      TEACHER    LIB_SPEC    LIB_SUPP  \n",
       "count          720.000000   720.000000  720.000000  720.000000  \n",
       "mean            25.327944    96.633528    0.778556    0.722792  \n",
       "std              3.568205   150.201279    2.275024    1.958220  \n",
       "min             13.460000     4.500000    0.000000    0.000000  \n",
       "25%             23.157500    28.857500    0.000000    0.000000  \n",
       "50%             25.455000    52.090000    0.000000    0.000000  \n",
       "75%             27.345000   108.030000    1.000000    0.407500  \n",
       "max             49.740000  2323.700000   25.700000   15.390000  "
      ]
     },
     "execution_count": 30,
     "metadata": {},
     "output_type": "execute_result"
    }
   ],
   "source": [
    "# summary statistics\n",
    "total = data4.shape[0]\n",
    "desc_data = data4[[num_students_col, proficient_col, avg_score_col, \n",
    "                  stddev_col, num_teachers_col, num_librarians_col, num_library_support_col]]\n",
    "desc_data.describe()"
   ]
  },
  {
   "cell_type": "code",
   "execution_count": 35,
   "metadata": {
    "collapsed": false
   },
   "outputs": [
    {
     "name": "stdout",
     "output_type": "stream",
     "text": [
      "Percent of schools with librarians: 0.333333333333\n",
      "Average score w librarians: 433.819375\n",
      "Average score wo librarians: 429.128145833\n",
      "Average proficiency w librarians: 68.70125\n",
      "Average proficiency wo librarians: 62.4383333333\n",
      "Diff: 10.0305634893%\n"
     ]
    },
    {
     "data": {
      "text/plain": [
       "Ttest_indResult(statistic=4.8306437012233197, pvalue=1.664434307435971e-06)"
      ]
     },
     "execution_count": 35,
     "metadata": {},
     "output_type": "execute_result"
    }
   ],
   "source": [
    "# Librarian specific stats\n",
    "idx_w_teachers = data4[num_librarians_col] > 0\n",
    "percent_w_teachers = np.sum(idx_w_teachers) / total\n",
    "print(\"Percent of schools with librarians: \" + str(percent_w_teachers))\n",
    "\n",
    "scores_w = data4[idx_w_teachers][avg_score_col]\n",
    "scores_wo = data4[idx_w_teachers == 0][avg_score_col]\n",
    "print(\"Average score w librarians: \" + str(np.average(scores_w)))\n",
    "print(\"Average score wo librarians: \" + str(np.average(scores_wo)))\n",
    "\n",
    "percent_prof_w = data4[idx_w_teachers][proficient_col]\n",
    "percent_prof_wo = data4[idx_w_teachers == 0][proficient_col]\n",
    "avg_prof_w = np.average(percent_prof_w)\n",
    "avg_prof_wo = np.average(percent_prof_wo)\n",
    "print(\"Average proficiency w librarians: \" + str(avg_prof_w))\n",
    "print(\"Average proficiency wo librarians: \" + str(avg_prof_wo))\n",
    "print(\"Diff: \" + str((avg_prof_w / avg_prof_wo - 1) * 100) + \"%\")\n",
    "\n",
    "ttest_ind(percent_prof_w, percent_prof_wo)"
   ]
  },
  {
   "cell_type": "code",
   "execution_count": 10,
   "metadata": {
    "collapsed": false
   },
   "outputs": [
    {
     "data": {
      "text/html": [
       "<div>\n",
       "<table border=\"1\" class=\"dataframe\">\n",
       "  <thead>\n",
       "    <tr style=\"text-align: right;\">\n",
       "      <th></th>\n",
       "      <th>Number Tested</th>\n",
       "      <th>Percent Proficient</th>\n",
       "      <th>Average Scaled Score</th>\n",
       "      <th>Standard Deviation</th>\n",
       "      <th>TEACHER</th>\n",
       "      <th>LIB_SPEC</th>\n",
       "      <th>LIB_SUPP</th>\n",
       "    </tr>\n",
       "  </thead>\n",
       "  <tbody>\n",
       "    <tr>\n",
       "      <th>count</th>\n",
       "      <td>677.000000</td>\n",
       "      <td>677.000000</td>\n",
       "      <td>677.000000</td>\n",
       "      <td>677.000000</td>\n",
       "      <td>677.000000</td>\n",
       "      <td>677.000000</td>\n",
       "      <td>677.000000</td>\n",
       "    </tr>\n",
       "    <tr>\n",
       "      <th>mean</th>\n",
       "      <td>77.409158</td>\n",
       "      <td>57.573117</td>\n",
       "      <td>425.374269</td>\n",
       "      <td>24.154594</td>\n",
       "      <td>101.468301</td>\n",
       "      <td>0.824682</td>\n",
       "      <td>0.759616</td>\n",
       "    </tr>\n",
       "    <tr>\n",
       "      <th>std</th>\n",
       "      <td>148.165097</td>\n",
       "      <td>14.904889</td>\n",
       "      <td>8.560548</td>\n",
       "      <td>3.667812</td>\n",
       "      <td>153.531306</td>\n",
       "      <td>2.338034</td>\n",
       "      <td>2.011485</td>\n",
       "    </tr>\n",
       "    <tr>\n",
       "      <th>min</th>\n",
       "      <td>10.000000</td>\n",
       "      <td>8.300000</td>\n",
       "      <td>394.980000</td>\n",
       "      <td>13.430000</td>\n",
       "      <td>5.000000</td>\n",
       "      <td>0.000000</td>\n",
       "      <td>0.000000</td>\n",
       "    </tr>\n",
       "    <tr>\n",
       "      <th>25%</th>\n",
       "      <td>29.000000</td>\n",
       "      <td>48.100000</td>\n",
       "      <td>420.580000</td>\n",
       "      <td>21.900000</td>\n",
       "      <td>31.010000</td>\n",
       "      <td>0.000000</td>\n",
       "      <td>0.000000</td>\n",
       "    </tr>\n",
       "    <tr>\n",
       "      <th>50%</th>\n",
       "      <td>50.000000</td>\n",
       "      <td>59.700000</td>\n",
       "      <td>426.430000</td>\n",
       "      <td>23.890000</td>\n",
       "      <td>57.000000</td>\n",
       "      <td>0.000000</td>\n",
       "      <td>0.000000</td>\n",
       "    </tr>\n",
       "    <tr>\n",
       "      <th>75%</th>\n",
       "      <td>79.000000</td>\n",
       "      <td>68.000000</td>\n",
       "      <td>431.030000</td>\n",
       "      <td>26.110000</td>\n",
       "      <td>113.000000</td>\n",
       "      <td>1.000000</td>\n",
       "      <td>0.500000</td>\n",
       "    </tr>\n",
       "    <tr>\n",
       "      <th>max</th>\n",
       "      <td>3040.000000</td>\n",
       "      <td>92.300000</td>\n",
       "      <td>453.870000</td>\n",
       "      <td>42.130000</td>\n",
       "      <td>2323.700000</td>\n",
       "      <td>25.700000</td>\n",
       "      <td>15.390000</td>\n",
       "    </tr>\n",
       "  </tbody>\n",
       "</table>\n",
       "</div>"
      ],
      "text/plain": [
       "       Number Tested  Percent Proficient  Average Scaled Score  \\\n",
       "count     677.000000          677.000000            677.000000   \n",
       "mean       77.409158           57.573117            425.374269   \n",
       "std       148.165097           14.904889              8.560548   \n",
       "min        10.000000            8.300000            394.980000   \n",
       "25%        29.000000           48.100000            420.580000   \n",
       "50%        50.000000           59.700000            426.430000   \n",
       "75%        79.000000           68.000000            431.030000   \n",
       "max      3040.000000           92.300000            453.870000   \n",
       "\n",
       "       Standard Deviation      TEACHER    LIB_SPEC    LIB_SUPP  \n",
       "count          677.000000   677.000000  677.000000  677.000000  \n",
       "mean            24.154594   101.468301    0.824682    0.759616  \n",
       "std              3.667812   153.531306    2.338034    2.011485  \n",
       "min             13.430000     5.000000    0.000000    0.000000  \n",
       "25%             21.900000    31.010000    0.000000    0.000000  \n",
       "50%             23.890000    57.000000    0.000000    0.000000  \n",
       "75%             26.110000   113.000000    1.000000    0.500000  \n",
       "max             42.130000  2323.700000   25.700000   15.390000  "
      ]
     },
     "execution_count": 10,
     "metadata": {},
     "output_type": "execute_result"
    }
   ],
   "source": [
    "# correlation b/w SES and librarians\n",
    "data4Dis = examineFor(combined_12, 4, 'Reading', poor_subgroup)\n",
    "desc_data4Dis = data4Dis[[num_students_col, proficient_col, avg_score_col, \n",
    "                  stddev_col, num_teachers_col, num_librarians_col, num_library_support_col]]\n",
    "desc_data4Dis.describe()"
   ]
  },
  {
   "cell_type": "code",
   "execution_count": 22,
   "metadata": {
    "collapsed": false
   },
   "outputs": [
    {
     "name": "stdout",
     "output_type": "stream",
     "text": [
      "(720, 37)\n",
      "(677, 37)\n",
      "(677, 37)\n",
      "True\n"
     ]
    },
    {
     "data": {
      "text/plain": [
       "<matplotlib.collections.PathCollection at 0x11565a860>"
      ]
     },
     "execution_count": 22,
     "metadata": {},
     "output_type": "execute_result"
    },
    {
     "data": {
      "image/png": "[encoded data removed]",
      "text/plain": [
       "<matplotlib.figure.Figure at 0x1155e9320>"
      ]
     },
     "metadata": {},
     "output_type": "display_data"
    }
   ],
   "source": [
    "print(data4.shape)\n",
    "print(data4Dis.shape)\n",
    "\n",
    "num_rich_schools = data4.shape[0] - data4Dis.shape[0]\n",
    "\n",
    "not_rich_ids = data4Dis[score_code_col]\n",
    "data4AllNotRich = data4[numpy.in1d(data4[score_code_col], not_rich_ids)]\n",
    "\n",
    "print(data4AllNotRich.shape)\n",
    "\n",
    "print(numpy.all(data4AllNotRich[score_code_col] == data4Dis[score_code_col]))\n",
    "\n",
    "percent_dis = np.divide(data4Dis[num_students_col], data4AllNotRich[num_students_col])\n",
    "percent_dis.describe()\n",
    "data4DisPlot = np.array([percent_dis, data4[num_librarians_col]])\n",
    "\n",
    "plt.scatter(percent_dis, data4AllNotRich[num_librarians_col])"
   ]
  }
 ],
 "metadata": {
  "kernelspec": {
   "display_name": "Python 3",
   "language": "python",
   "name": "python3"
  },
  "language_info": {
   "codemirror_mode": {
    "name": "ipython",
    "version": 3
   },
   "file_extension": ".py",
   "mimetype": "text/x-python",
   "name": "python",
   "nbconvert_exporter": "python",
   "pygments_lexer": "ipython3",
   "version": "3.5.2"
  }
 },
 "nbformat": 4,
 "nbformat_minor": 0
}
