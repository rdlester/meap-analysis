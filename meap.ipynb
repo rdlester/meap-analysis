{
 "cells": [
  {
   "cell_type": "markdown",
   "metadata": {},
   "source": [
    "# meap analysis"
   ]
  },
  {
   "cell_type": "code",
   "execution_count": 2,
   "metadata": {
    "collapsed": false
   },
   "outputs": [
    {
     "name": "stdout",
     "output_type": "stream",
     "text": [
      "Using matplotlib backend: MacOSX\n"
     ]
    }
   ],
   "source": [
    "import numpy as np\n",
    "import matplotlib.pyplot as plt\n",
    "import pandas as pd\n",
    "%matplotlib"
   ]
  },
  {
   "cell_type": "code",
   "execution_count": 83,
   "metadata": {
    "collapsed": false
   },
   "outputs": [
    {
     "data": {
      "text/plain": [
       "Index(['SchoolYear', 'ISDCode', 'ISDName', 'DistrictCode', 'DistrictName',\n",
       "       'BuildingName', 'Grade', 'Subject Name', 'Subgroup', 'Number Tested',\n",
       "       'Level 1 Proficient', 'Level 2 Proficient', 'Level 3 Proficient',\n",
       "       'Level 4 Proficient', 'Percent Proficient', 'Average Scaled Score',\n",
       "       'Standard Deviation', 'TEACHER', 'INST_AID', 'INST_SUP', 'GUIDANCE',\n",
       "       'LIB_SPEC', 'LIB_SUPP', 'LEA_ADM', 'LEA_SUPP', 'SCH_ADM', 'SCH_SUPP',\n",
       "       'STU_SUPP', 'OTH_SUPP', 'SE_INSTR', 'SE_SUBJ', 'SE_CONS', 'SE_AID',\n",
       "       'SE_SUPP', 'SE_OTH', 'CT_TEACH', 'CONS', 'LEA_DIR', 'COORD', 'SUPERVSR',\n",
       "       'SCH_DIR'],\n",
       "      dtype='object')"
      ]
     },
     "execution_count": 83,
     "metadata": {},
     "output_type": "execute_result"
    }
   ],
   "source": [
    "scores = pd.read_csv('csv/12-13.csv')\n",
    "staff = pd.read_csv('csv/librarians-per-district.csv')\n",
    "combined = pd.merge(scores, staff, left_on='DistrictCode', right_on='DCODE')\n",
    "\n",
    "combined = combined.drop('DCODE', 1).drop('DNAME', 1).drop('BuildingCode', 1)\n",
    "combined.columns"
   ]
  },
  {
   "cell_type": "code",
   "execution_count": 84,
   "metadata": {
    "collapsed": false
   },
   "outputs": [],
   "source": [
    "combined = combined[combined['Number Tested']!='< 10']\n",
    "combined = combined[combined['BuildingName']=='All Buildings']\n",
    "combined = combined.drop('BuildingName', 1)"
   ]
  },
  {
   "cell_type": "code",
   "execution_count": 87,
   "metadata": {
    "collapsed": false
   },
   "outputs": [],
   "source": [
    "grade_constraint = combined['Grade']==3\n",
    "subject_constraint = combined['Subject Name']=='Reading'\n",
    "subgroup_constraint = combined['Subgroup']=='All Students'\n",
    "data = combined[grade_constraint & subject_constraint & subgroup_constraint]\n",
    "data = data.drop('Grade', 1).drop('Subject Name', 1).drop('Subgroup', 1)\n",
    "data = data.convert_objects(convert_numeric=True)"
   ]
  },
  {
   "cell_type": "code",
   "execution_count": 103,
   "metadata": {
    "collapsed": false
   },
   "outputs": [
    {
     "data": {
      "text/plain": [
       "<matplotlib.axes._subplots.AxesSubplot at 0x133252358>"
      ]
     },
     "execution_count": 103,
     "metadata": {},
     "output_type": "execute_result"
    }
   ],
   "source": [
    "data.plot(x='Average Scaled Score', y='LIB_SPEC', kind='scatter')"
   ]
  }
 ],
 "metadata": {
  "kernelspec": {
   "display_name": "Python 3",
   "language": "python",
   "name": "python3"
  },
  "language_info": {
   "codemirror_mode": {
    "name": "ipython",
    "version": 3
   },
   "file_extension": ".py",
   "mimetype": "text/x-python",
   "name": "python",
   "nbconvert_exporter": "python",
   "pygments_lexer": "ipython3",
   "version": "3.4.3"
  }
 },
 "nbformat": 4,
 "nbformat_minor": 0
}
